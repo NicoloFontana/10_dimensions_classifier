{
 "cells": [
  {
   "cell_type": "code",
   "execution_count": null,
   "metadata": {},
   "outputs": [],
   "source": [
    "import torch\n",
    "from features import ExtractWordEmbeddings\n",
    "from nltk.tokenize import TweetTokenizer\n",
    "from models.lstm import LSTMClassifier\n",
    "tokenize = TweetTokenizer().tokenize\n",
    "from preprocess_data import padBatch"
   ]
  },
  {
   "cell_type": "markdown",
   "metadata": {},
   "source": [
    "Select a dimension based on these 10 dimensions"
   ]
  },
  {
   "cell_type": "code",
   "execution_count": null,
   "metadata": {},
   "outputs": [],
   "source": [
    "dims = [\n",
    "        'social_support',\n",
    "        'conflict',\n",
    "        'trust',\n",
    "        'fun',\n",
    "        'similarity',\n",
    "        'identity',\n",
    "        'respect',\n",
    "        'romance',\n",
    "        'knowledge',\n",
    "        'power'\n",
    "        ]\n",
    "\n",
    "dim = 'INSERT DIMENSION HERE'\n",
    "dim = 'conflict'\n",
    "is_cuda = False # set to true only when using a GPU\n",
    "\n",
    "weight_file = 'weights/LSTM/%s/best-weights.pth'%dim"
   ]
  },
  {
   "cell_type": "code",
   "execution_count": null,
   "metadata": {},
   "outputs": [],
   "source": [
    "# load embeddings\n",
    "em = ExtractWordEmbeddings(emb_type='glove')\n",
    "\n",
    "# load model\n",
    "model = LSTMClassifier(embedding_dim=300, hidden_dim=300)\n",
    "state_dict = torch.load(weight_file)\n",
    "model.load_state_dict(state_dict)\n",
    "if is_cuda:\n",
    "    model.cuda()"
   ]
  },
  {
   "cell_type": "code",
   "execution_count": null,
   "metadata": {},
   "outputs": [],
   "source": [
    "sents = [\n",
    "    'i trust you',\n",
    "    'i believe in you',\n",
    "    'believe me, that is not going to work',\n",
    "    'i love you so much',\n",
    "    'i hate you',\n",
    "    \"I don't love you any more\",\n",
    "    'i am proud of you',\n",
    "    'i agree with that guy',\n",
    "    'Thank you so much',\n",
    "    'good to hear from you',\n",
    "    'this is exactly what i wanted',\n",
    "    'this is not what i wanted',\n",
    "    'get off, you are wrong i do not'\n",
    "]\n",
    "tokenized_sents = [tokenize(sent) for sent in sents]\n",
    "inputs = torch.tensor(padBatch([em.obtain_vectors_from_sentence(sent,True) for sent in tokenized_sents])).float()\n",
    "if is_cuda:\n",
    "    inputs = inputs.cuda()\n",
    "outputs = torch.sigmoid(model(inputs)).tolist()"
   ]
  },
  {
   "cell_type": "code",
   "execution_count": null,
   "metadata": {},
   "outputs": [],
   "source": [
    "for sent,score in zip(sents,outputs):\n",
    "    print(round(score,2),sent)"
   ]
  },
  {
   "cell_type": "code",
   "execution_count": null,
   "metadata": {},
   "outputs": [],
   "source": []
  }
 ],
 "metadata": {
  "kernelspec": {
   "display_name": "Python 3",
   "language": "python",
   "name": "python3"
  },
  "language_info": {
   "codemirror_mode": {
    "name": "ipython",
    "version": 3
   },
   "file_extension": ".py",
   "mimetype": "text/x-python",
   "name": "python",
   "nbconvert_exporter": "python",
   "pygments_lexer": "ipython3",
   "version": "3.6.8"
  }
 },
 "nbformat": 4,
 "nbformat_minor": 2
}
